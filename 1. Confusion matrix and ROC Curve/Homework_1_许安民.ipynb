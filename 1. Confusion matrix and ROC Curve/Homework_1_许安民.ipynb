{
 "cells": [
  {
   "cell_type": "code",
   "execution_count": 2,
   "id": "8593c444",
   "metadata": {},
   "outputs": [],
   "source": [
    "import csv\n",
    "import numpy as np\n",
    "with open('score.csv', newline='') as f:\n",
    "    reader = csv.reader(f)\n",
    "    s = list(reader)\n",
    "tmp = s[0]\n",
    "score = np.array([float(item) for item in tmp])\n",
    "\n",
    "with open('label.csv', newline='') as f:\n",
    "    reader = csv.reader(f)\n",
    "    l = list(reader)\n",
    "tmp = l[0]\n",
    "label = np.array([int(item) for item in tmp])"
   ]
  },
  {
   "cell_type": "code",
   "execution_count": 3,
   "id": "1b230ae4",
   "metadata": {},
   "outputs": [],
   "source": [
    "#在得分数组中，以0.05为阈值进行判断P/N\n",
    "#当得分大于0.05则判断为True\n",
    "#当得分小于或等于0.05则判断为False\n",
    "score[score>0.05]=True\n",
    "score[score<=0.05]=False\n",
    "\n",
    "#将转化后的得分由bool类型转化为整数类型\n",
    "score=np.array([int(item) for item in score])"
   ]
  },
  {
   "cell_type": "code",
   "execution_count": 4,
   "id": "b40114e5",
   "metadata": {},
   "outputs": [],
   "source": [
    "team=list(zip(score,label))"
   ]
  },
  {
   "cell_type": "code",
   "execution_count": 8,
   "id": "73cb4b1a",
   "metadata": {},
   "outputs": [
    {
     "data": {
      "text/html": [
       "<div>\n",
       "<style scoped>\n",
       "    .dataframe tbody tr th:only-of-type {\n",
       "        vertical-align: middle;\n",
       "    }\n",
       "\n",
       "    .dataframe tbody tr th {\n",
       "        vertical-align: top;\n",
       "    }\n",
       "\n",
       "    .dataframe thead th {\n",
       "        text-align: right;\n",
       "    }\n",
       "</style>\n",
       "<table border=\"1\" class=\"dataframe\">\n",
       "  <thead>\n",
       "    <tr style=\"text-align: right;\">\n",
       "      <th></th>\n",
       "      <th>0</th>\n",
       "      <th>1</th>\n",
       "    </tr>\n",
       "  </thead>\n",
       "  <tbody>\n",
       "    <tr>\n",
       "      <th>0</th>\n",
       "      <td>0</td>\n",
       "      <td>0</td>\n",
       "    </tr>\n",
       "    <tr>\n",
       "      <th>1</th>\n",
       "      <td>0</td>\n",
       "      <td>0</td>\n",
       "    </tr>\n",
       "    <tr>\n",
       "      <th>2</th>\n",
       "      <td>0</td>\n",
       "      <td>0</td>\n",
       "    </tr>\n",
       "    <tr>\n",
       "      <th>3</th>\n",
       "      <td>0</td>\n",
       "      <td>0</td>\n",
       "    </tr>\n",
       "    <tr>\n",
       "      <th>4</th>\n",
       "      <td>0</td>\n",
       "      <td>0</td>\n",
       "    </tr>\n",
       "    <tr>\n",
       "      <th>...</th>\n",
       "      <td>...</td>\n",
       "      <td>...</td>\n",
       "    </tr>\n",
       "    <tr>\n",
       "      <th>955</th>\n",
       "      <td>1</td>\n",
       "      <td>1</td>\n",
       "    </tr>\n",
       "    <tr>\n",
       "      <th>956</th>\n",
       "      <td>1</td>\n",
       "      <td>1</td>\n",
       "    </tr>\n",
       "    <tr>\n",
       "      <th>957</th>\n",
       "      <td>1</td>\n",
       "      <td>1</td>\n",
       "    </tr>\n",
       "    <tr>\n",
       "      <th>958</th>\n",
       "      <td>1</td>\n",
       "      <td>1</td>\n",
       "    </tr>\n",
       "    <tr>\n",
       "      <th>959</th>\n",
       "      <td>1</td>\n",
       "      <td>1</td>\n",
       "    </tr>\n",
       "  </tbody>\n",
       "</table>\n",
       "<p>960 rows × 2 columns</p>\n",
       "</div>"
      ],
      "text/plain": [
       "     0  1\n",
       "0    0  0\n",
       "1    0  0\n",
       "2    0  0\n",
       "3    0  0\n",
       "4    0  0\n",
       "..  .. ..\n",
       "955  1  1\n",
       "956  1  1\n",
       "957  1  1\n",
       "958  1  1\n",
       "959  1  1\n",
       "\n",
       "[960 rows x 2 columns]"
      ]
     },
     "execution_count": 8,
     "metadata": {},
     "output_type": "execute_result"
    }
   ],
   "source": [
    "import pandas as pd\n",
    "team=pd.DataFrame(team)\n",
    "#Output the team\n",
    "team"
   ]
  },
  {
   "cell_type": "code",
   "execution_count": 9,
   "id": "184b7b4c",
   "metadata": {},
   "outputs": [],
   "source": [
    "# 计算混淆矩阵\n",
    "TP=team[(team==(1.0,1.0))[1] & (team==(1.0,1.0))[0]]\n",
    "TN=team[(team==(0.0,0.0))[1] & (team==(0.0,0.0))[0]]\n",
    "FP=team[(team==(0.0,1.0))[1] & (team==(0.0,1.0))[0]]\n",
    "FN=team[(team==(1.0,0.0))[1] & (team==(1.0,0.0))[0]]"
   ]
  },
  {
   "cell_type": "code",
   "execution_count": 10,
   "id": "34d99dcd",
   "metadata": {},
   "outputs": [],
   "source": [
    "TP_value=len(TP)\n",
    "TN_value=len(TN)\n",
    "FP_value=len(FP)\n",
    "FN_value=len(FN)"
   ]
  },
  {
   "cell_type": "code",
   "execution_count": 11,
   "id": "faea0c49",
   "metadata": {},
   "outputs": [
    {
     "data": {
      "text/plain": [
       "766"
      ]
     },
     "execution_count": 11,
     "metadata": {},
     "output_type": "execute_result"
    }
   ],
   "source": [
    "TP_value"
   ]
  },
  {
   "cell_type": "code",
   "execution_count": 12,
   "id": "4008473a",
   "metadata": {},
   "outputs": [],
   "source": [
    "# Calculate TPR、FPR、Precision、Recall、F1-score、Accuracy\n",
    "TPR=TP_value/(TP_value+FN_value)\n",
    "FPR=FP_value/(FP_value+TN_value)\n",
    "Precision=TP_value/(TP_value+FP_value)\n",
    "Recall=TP_value/(TP_value+FN_value)\n",
    "F1_score=2*TP_value/(2*TP_value+FP_value+FN_value)\n",
    "Acc=(TP_value+TN_value)/len(team)"
   ]
  },
  {
   "cell_type": "code",
   "execution_count": 13,
   "id": "5e3299dd",
   "metadata": {},
   "outputs": [
    {
     "name": "stdout",
     "output_type": "stream",
     "text": [
      "TPR is 0.9527363184079602 %\n",
      "FPR is 0.21794871794871795 %\n",
      "Precision is 0.9575 %\n",
      "Recall is 0.9527363184079602 %\n",
      "F1_score is 0.9551122194513716 %\n",
      "Accuracy is 0.925 %\n"
     ]
    }
   ],
   "source": [
    "print(\"TPR is\",TPR,\"%\")\n",
    "print(\"FPR is\",FPR,\"%\")\n",
    "print(\"Precision is\",Precision,\"%\")\n",
    "print(\"Recall is\",Recall,\"%\")\n",
    "print(\"F1_score is\",F1_score,\"%\")\n",
    "print(\"Accuracy is\",Acc,\"%\")"
   ]
  },
  {
   "cell_type": "code",
   "execution_count": 14,
   "id": "5d216340",
   "metadata": {},
   "outputs": [],
   "source": [
    "from sklearn import metrics\n",
    "with open('score.csv', newline='') as f:\n",
    "    reader = csv.reader(f)\n",
    "    s = list(reader)\n",
    "tmp = s[0]\n",
    "score_value = np.array([float(item) for item in tmp])\n",
    "fpr, tpr, thresholds = metrics.roc_curve(label, score_value)\n",
    "# metrics.roc_curve参数：样本真实标签(默认是0-1标签，如果不是需要使用pos_label=2)"
   ]
  },
  {
   "cell_type": "code",
   "execution_count": 15,
   "id": "8a49e588",
   "metadata": {},
   "outputs": [
    {
     "data": {
      "text/plain": [
       "0.972921875"
      ]
     },
     "execution_count": 15,
     "metadata": {},
     "output_type": "execute_result"
    }
   ],
   "source": [
    "from sklearn.metrics import roc_curve, auc  #计算roc和auc\n",
    "auc = auc(fpr, tpr)\n",
    "auc"
   ]
  },
  {
   "cell_type": "code",
   "execution_count": 20,
   "id": "c33d526e",
   "metadata": {},
   "outputs": [
    {
     "data": {
      "image/png": "[encoded data removed]",
      "text/plain": [
       "<Figure size 432x288 with 2 Axes>"
      ]
     },
     "metadata": {
      "needs_background": "light"
     },
     "output_type": "display_data"
    }
   ],
   "source": [
    "# 绘制混淆矩阵\n",
    "import matplotlib.pyplot as plt\n",
    "from sklearn.metrics import confusion_matrix, ConfusionMatrixDisplay\n",
    "cm = confusion_matrix(label, score)\n",
    "disp = ConfusionMatrixDisplay(confusion_matrix=cm)\n",
    "# plt.imshow(cm, interpolation='nearest', cmap=plt.get_cmap('Blues'))\n",
    "disp.plot()\n",
    "plt.show()"
   ]
  },
  {
   "cell_type": "code",
   "execution_count": 16,
   "id": "5a2c6d82",
   "metadata": {},
   "outputs": [
    {
     "data": {
      "image/png": "[encoded data removed]",
      "text/plain": [
       "<Figure size 640x480 with 1 Axes>"
      ]
     },
     "metadata": {},
     "output_type": "display_data"
    }
   ],
   "source": [
    "# 绘制ROC曲线\n",
    "import matplotlib.pyplot as plt\n",
    "plt.figure()\n",
    "plt.plot(\n",
    "    fpr,\n",
    "    tpr,\n",
    "    color=\"darkorange\",\n",
    "    label=\"ROC curve (area = %0.2f)\" % auc,\n",
    ")\n",
    "plt.plot([0, 1], [0, 1], color=\"navy\", linestyle=\"--\")\n",
    "plt.xlim([0.0, 1.0])\n",
    "plt.ylim([0.0, 1.05])\n",
    "plt.xlabel(\"False Positive Rate\")\n",
    "plt.ylabel(\"True Positive Rate\")\n",
    "plt.title(\"Receiver operating characteristic example\")\n",
    "plt.legend(loc=\"lower right\")\n",
    "plt.show()"
   ]
  },
  {
   "cell_type": "code",
   "execution_count": null,
   "id": "6d1934c0",
   "metadata": {},
   "outputs": [],
   "source": []
  }
 ],
 "metadata": {
  "kernelspec": {
   "display_name": "Python 3 (ipykernel)",
   "language": "python",
   "name": "python3"
  },
  "language_info": {
   "codemirror_mode": {
    "name": "ipython",
    "version": 3
   },
   "file_extension": ".py",
   "mimetype": "text/x-python",
   "name": "python",
   "nbconvert_exporter": "python",
   "pygments_lexer": "ipython3",
   "version": "3.11.3"
  }
 },
 "nbformat": 4,
 "nbformat_minor": 5
}
