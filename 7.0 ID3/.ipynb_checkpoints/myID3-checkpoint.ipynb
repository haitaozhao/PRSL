{
 "cells": [
  {
   "cell_type": "code",
   "execution_count": 14,
   "id": "9f1b7fc4",
   "metadata": {},
   "outputs": [
    {
     "name": "stdout",
     "output_type": "stream",
     "text": [
      "Outlook\n",
      "Sunny \n",
      "\n",
      "Humidity\n",
      "High \n",
      "\n",
      "Humidity\n",
      "Normal \n",
      "\n",
      "Outlook\n",
      "Overcast \n",
      "\n",
      "Outlook\n",
      "Rainy \n",
      "\n",
      "WindSpeed\n",
      "Weak \n",
      "\n",
      "WindSpeed\n",
      "Strong \n",
      "\n"
     ]
    }
   ],
   "source": [
    "import math\n",
    "import pandas as pd\n",
    "from operator import itemgetter\n",
    "\n",
    "class DecisionTree:\n",
    "    def __init__(self, df, target, positive, parent_val, parent):  # 仅考虑2分类的ID3，positive or not\n",
    "        self.data = df\n",
    "        self.target = target\n",
    "        self.positive = positive\n",
    "        self.parent_val = parent_val\n",
    "        self.parent = parent\n",
    "        self.childs = []\n",
    "        self.decision = ''\n",
    "\n",
    "    def _get_entropy(self, data):\n",
    "        p = sum(data[self.target]==self.positive)\n",
    "        n = data.shape[0] - p\n",
    "        p_ratio = p/(p+n)\n",
    "        n_ratio = 1 - p_ratio\n",
    "        entropy_p = -p_ratio*math.log2(p_ratio) if p_ratio != 0 else 0  # 不纯就继续计算\n",
    "        entropy_n = - n_ratio*math.log2(n_ratio) if n_ratio !=0 else 0  # 不纯就继续计算\n",
    "        return entropy_p + entropy_n\n",
    "    \n",
    "    def _get_gain(self, feat):\n",
    "        avg_info=0\n",
    "        for val in self.data[feat].unique():\n",
    "            avg_info+=self._get_entropy(self.data[self.data[feat] == val])*sum(self.data[feat]==val)/self.data.shape[0]\n",
    "        return self._get_entropy(df) - avg_info\n",
    "    \n",
    "    def _get_splitter(self):\n",
    "        self.splitter = max(self.gains, key = itemgetter(1))[0] \n",
    "    \n",
    "    def update_nodes(self):\n",
    "        self.features = [col for col in self.data.columns if col != self.target]\n",
    "        self.entropy = self._get_entropy(self.data)\n",
    "        if self.entropy != 0:\n",
    "            self.gains = [(feat, self._get_gain(feat)) for feat in self.features]\n",
    "            self._get_splitter()\n",
    "            residual_columns = [k for k in self.data.columns if k != self.splitter]\n",
    "            for val in self.data[self.splitter].unique():\n",
    "                df_tmp = self.data[self.data[self.splitter]==val][residual_columns]\n",
    "                tmp_node = DecisionTree(df_tmp, self.target, self.positive, val, self.splitter)\n",
    "                tmp_node.update_nodes()\n",
    "                self.childs.append(tmp_node)\n",
    "\n",
    "def print_tree(n):\n",
    "    for child in n.childs:\n",
    "        if child:\n",
    "            print(child.__dict__.get('parent', ''))\n",
    "            print(child.__dict__.get('parent_val', ''), '\\n')\n",
    "            print_tree(child)\n",
    "\n",
    "df = pd.read_csv('./sample.csv')\n",
    "df\n",
    "\n",
    "dt = DecisionTree(df, 'Play', 'Yes', '', '')\n",
    "dt.update_nodes()\n",
    "print_tree(dt)"
   ]
  },
  {
   "cell_type": "code",
   "execution_count": null,
   "id": "1170e1d3",
   "metadata": {},
   "outputs": [],
   "source": []
  }
 ],
 "metadata": {
  "kernelspec": {
   "display_name": "Python 3 (ipykernel)",
   "language": "python",
   "name": "python3"
  },
  "language_info": {
   "codemirror_mode": {
    "name": "ipython",
    "version": 3
   },
   "file_extension": ".py",
   "mimetype": "text/x-python",
   "name": "python",
   "nbconvert_exporter": "python",
   "pygments_lexer": "ipython3",
   "version": "3.9.12"
  }
 },
 "nbformat": 4,
 "nbformat_minor": 5
}
