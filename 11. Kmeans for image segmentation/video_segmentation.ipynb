{
 "cells": [
  {
   "cell_type": "code",
   "execution_count": 2,
   "metadata": {},
   "outputs": [],
   "source": [
    "import cv2\n",
    "import cvzone\n",
    "from cvzone.FPS import FPS\n",
    "from cvzone.SelfiSegmentationModule import SelfiSegmentation\n",
    "import numpy as np"
   ]
  },
  {
   "cell_type": "code",
   "execution_count": 3,
   "metadata": {},
   "outputs": [],
   "source": [
    "cap = cv2.VideoCapture(0)\n",
    "cap.set(3,640) # 设置显示宽度\n",
    "cap.set(4,480) # 设置显示高度\n",
    "segmentor = SelfiSegmentation()\n",
    "#fpsReader = FPS(avgCount=30)\n",
    "bk_image = cv2.imread(\".\\\\images\\\\image01.jpg\")\n",
    "bk_image = cv2.resize(bk_image,[640,480])\n",
    "while True:\n",
    "    success,img = cap.read()\n",
    "    imgOut = segmentor.removeBG(img,(255,0,0))\n",
    "    # foreground clustering\n",
    "    vectorized = imgOut.reshape((-1,3))\n",
    "    vectorized = np.float32(vectorized)\n",
    "    \n",
    "    # perform kmeans clustering\n",
    "    ## 停止条件\n",
    "    criteria = (cv2.TERM_CRITERIA_EPS + cv2.TERM_CRITERIA_MAX_ITER, 10, 1)\n",
    "    ## 初始化中心数和尝试的次数\n",
    "    K = 3\n",
    "    attempts=2\n",
    "    _,label,center = cv2.kmeans(vectorized,K,None,criteria,attempts,cv2.KMEANS_PP_CENTERS)\n",
    "    center = np.uint8(center)\n",
    "    label.flatten().shape,center.shape\n",
    "    res = center[label.flatten()]\n",
    "    imgOut = res.reshape((imgOut.shape))\n",
    "    \n",
    "    \n",
    "    imgStacked = cvzone.stackImages([img,imgOut],2,1)\n",
    "#    _,imgStacked = fpsReader.update(imgStacked,color = (0,0,255))\n",
    "    \n",
    "    cv2.imshow(\"Image\",imgStacked)\n",
    "    key = cv2.waitKey(1)\n",
    "    if key == ord('q'):\n",
    "        break"
   ]
  },
  {
   "cell_type": "code",
   "execution_count": null,
   "metadata": {},
   "outputs": [],
   "source": []
  }
 ],
 "metadata": {
  "kernelspec": {
   "display_name": "Python 3 (ipykernel)",
   "language": "python",
   "name": "python3"
  },
  "language_info": {
   "codemirror_mode": {
    "name": "ipython",
    "version": 3
   },
   "file_extension": ".py",
   "mimetype": "text/x-python",
   "name": "python",
   "nbconvert_exporter": "python",
   "pygments_lexer": "ipython3",
   "version": "3.11.3"
  },
  "toc": {
   "base_numbering": 1,
   "nav_menu": {},
   "number_sections": true,
   "sideBar": true,
   "skip_h1_title": false,
   "title_cell": "Table of Contents",
   "title_sidebar": "Contents",
   "toc_cell": false,
   "toc_position": {},
   "toc_section_display": true,
   "toc_window_display": false
  }
 },
 "nbformat": 4,
 "nbformat_minor": 2
}
