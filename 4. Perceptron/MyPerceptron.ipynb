{
 "cells": [
  {
   "cell_type": "markdown",
   "metadata": {},
   "source": [
    "# 感知机决策边界的求解"
   ]
  },
  {
   "cell_type": "markdown",
   "metadata": {},
   "source": [
    "1. 读入数据文件 data_Perc.mat"
   ]
  },
  {
   "cell_type": "code",
   "execution_count": 1,
   "metadata": {},
   "outputs": [
    {
     "data": {
      "text/plain": [
       "((2, 15), (1, 15))"
      ]
     },
     "execution_count": 1,
     "metadata": {},
     "output_type": "execute_result"
    }
   ],
   "source": [
    "from sklearn import datasets\n",
    "from sklearn.model_selection import train_test_split\n",
    "import numpy as np\n",
    "import matplotlib.pyplot as plt\n",
    "import scipy.io\n",
    "mat = scipy.io.loadmat('.//data_Perc.mat')\n",
    "Data = mat['x']\n",
    "label = mat['y']\n",
    "Data.shape,label.shape"
   ]
  },
  {
   "cell_type": "markdown",
   "metadata": {},
   "source": [
    "2. 构造增广矩阵 $ X = [\\bf{1}\\ X]$"
   ]
  },
  {
   "cell_type": "code",
   "execution_count": 2,
   "metadata": {},
   "outputs": [
    {
     "data": {
      "text/plain": [
       "array([[ 1. ,  1. ,  4.5],\n",
       "       [ 1. ,  1.5,  6.5],\n",
       "       [ 1. ,  2.1,  3.5],\n",
       "       [ 1. ,  3.1,  4.9],\n",
       "       [ 1. ,  3.5,  6.5],\n",
       "       [ 1. ,  4. ,  4.2],\n",
       "       [ 1. ,  5. ,  5. ],\n",
       "       [ 1. ,  5.9,  2.7],\n",
       "       [ 1. ,  6.9,  3.7],\n",
       "       [ 1. ,  7.9,  2.2],\n",
       "       [ 1. ,  8.4,  2.6],\n",
       "       [ 1. ,  9. ,  1.6],\n",
       "       [ 1. , 10. ,  5. ],\n",
       "       [ 1. , 10.5,  0.8],\n",
       "       [ 1. , 11.2,  1.5]])"
      ]
     },
     "execution_count": 2,
     "metadata": {},
     "output_type": "execute_result"
    }
   ],
   "source": [
    "X = np.c_[np.ones([15,1]),Data.T]\n",
    "X"
   ]
  },
  {
   "cell_type": "markdown",
   "metadata": {},
   "source": [
    "3. 设置$w$的初值为$[0\\ 0\\ 0]^T$，并计算结果\n",
    "    - 线性模型 $g(x) = w^Tx$, $w$ 和 $x$ 为增广的参数向量和数据矩阵 "
   ]
  },
  {
   "cell_type": "code",
   "execution_count": 3,
   "metadata": {},
   "outputs": [
    {
     "name": "stdout",
     "output_type": "stream",
     "text": [
      "[0 0 0 0 0 0 0 0 0 0 0 0 0 0 0]\n",
      "[[0. 1. 0. 0. 1. 0. 1. 0. 1. 0. 1. 0. 1. 0. 1.]]\n"
     ]
    },
    {
     "data": {
      "text/plain": [
       "array([[False,  True, False, False,  True, False,  True, False,  True,\n",
       "        False,  True, False,  True, False,  True]])"
      ]
     },
     "execution_count": 3,
     "metadata": {},
     "output_type": "execute_result"
    }
   ],
   "source": [
    "w = np.zeros([3,1])\n",
    "\n",
    "# 计算预测结果\n",
    "result = X.dot(w).reshape(-1)\n",
    "pred = 1*(result>0)\n",
    "print(pred)\n",
    "# label属于{-1,1},转成{0,1},方便后续编程\n",
    "nlabel = (label+1)/2\n",
    "print(nlabel)\n",
    "pred != nlabel"
   ]
  },
  {
   "cell_type": "markdown",
   "metadata": {},
   "source": [
    "4. 梯度下降法求解$w$，直到没有错误分类为止,迭代次数不超过2000次\n",
    "    - 目标函数 $ -\\sum_{x_i \\in M}  y_iw^Tx_i $\n",
    "    - 梯度 $-\\sum_{x_i \\in M}  y_ix_i$"
   ]
  },
  {
   "cell_type": "code",
   "execution_count": 4,
   "metadata": {
    "scrolled": true
   },
   "outputs": [
    {
     "name": "stdout",
     "output_type": "stream",
     "text": [
      "the number of iteration is 1225\n"
     ]
    }
   ],
   "source": [
    "r = 0.01\n",
    "t = 0\n",
    "error = []\n",
    "while np.sum(pred != nlabel) and t<2000:\n",
    "    WX = X[np.array((pred != nlabel)).reshape(-1),:]\n",
    "    Wlabel = label[0,np.array((pred != nlabel)).reshape(-1)]\n",
    "    deltaw =  WX.T.dot(Wlabel.reshape(-1,1))\n",
    "    wt = w + r* deltaw;\n",
    "    error.append(-(WX.dot(w)/(np.linalg.norm(w)+np.spacing(1))).T.dot(label[0,np.array((pred != nlabel)).reshape(-1)].T))\n",
    "    t= t+1\n",
    "    pred = []\n",
    "    w = wt\n",
    "    result = X.dot(w).reshape(-1)\n",
    "    pred = 1*(result>0)\n",
    "print(\"the number of iteration is %d\" %t)   "
   ]
  },
  {
   "cell_type": "markdown",
   "metadata": {},
   "source": [
    "5. 进行相关图形的绘制\n",
    "    - subplot 用来绘制子图，212表示绘制的子图是2行1列的第二列，221表示2行2列的第一个，按c规则进行排列"
   ]
  },
  {
   "cell_type": "code",
   "execution_count": 6,
   "metadata": {
    "scrolled": true
   },
   "outputs": [
    {
     "data": {
      "text/plain": [
       "Text(0.5, 1.0, 'Decision boundary of Perceptron')"
      ]
     },
     "execution_count": 6,
     "metadata": {},
     "output_type": "execute_result"
    },
    {
     "data": {
      "image/png": "[encoded data removed]",
      "text/plain": [
       "<Figure size 432x288 with 3 Axes>"
      ]
     },
     "metadata": {
      "needs_background": "light"
     },
     "output_type": "display_data"
    }
   ],
   "source": [
    "ax1 = plt.subplot(212)\n",
    "ax1.plot(error[1:],label='objective function')\n",
    "ax1.legend()\n",
    "\n",
    "ax2 = plt.subplot(221) \n",
    "a = (label.reshape(-1)>0).nonzero()\n",
    "a = np.array(a)\n",
    "Dp = Data[:,a.reshape(-1)]\n",
    "ax2.plot(Data[0,:],Data[1,:],'.')\n",
    "ax2.plot(Dp[0,:],Dp[1,:],'r+')\n",
    "ax2.set_title('Training Data')\n",
    "\n",
    "ax3 = plt.subplot(222)\n",
    "ax3.plot(Data[0,:],Data[1,:],'.')\n",
    "ax3.plot(Dp[0,:],Dp[1,:],'r+')\n",
    "\n",
    "p1 = 0\n",
    "p2 = (-wt[1]*p1-wt[0])/wt[2]\n",
    "q1 = 12\n",
    "q2 = (-wt[1]*q1-wt[0])/wt[2]\n",
    "ax3.plot([p1,q1],[p2,q2],'k-')\n",
    "ax3.set_title('Decision boundary of Perceptron')\n"
   ]
  },
  {
   "cell_type": "code",
   "execution_count": null,
   "metadata": {},
   "outputs": [],
   "source": []
  }
 ],
 "metadata": {
  "kernelspec": {
   "display_name": "Python 3",
   "language": "python",
   "name": "python3"
  },
  "language_info": {
   "codemirror_mode": {
    "name": "ipython",
    "version": 3
   },
   "file_extension": ".py",
   "mimetype": "text/x-python",
   "name": "python",
   "nbconvert_exporter": "python",
   "pygments_lexer": "ipython3",
   "version": "3.7.3"
  },
  "toc": {
   "base_numbering": 1,
   "nav_menu": {},
   "number_sections": true,
   "sideBar": true,
   "skip_h1_title": false,
   "title_cell": "Table of Contents",
   "title_sidebar": "Contents",
   "toc_cell": false,
   "toc_position": {},
   "toc_section_display": true,
   "toc_window_display": false
  }
 },
 "nbformat": 4,
 "nbformat_minor": 2
}
