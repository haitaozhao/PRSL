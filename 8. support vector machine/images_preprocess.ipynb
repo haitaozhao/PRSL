{
 "cells": [
  {
   "cell_type": "code",
   "execution_count": 8,
   "id": "7cf4acd7",
   "metadata": {
    "tags": []
   },
   "outputs": [],
   "source": [
    "# 步骤\n",
    "# 1.读取图片\n",
    "# 2.裁剪出人脸\n",
    "# 3.转为BLob格式\n",
    "# 4.处理所有图片\n",
    "# 5.存储为numpy 文件"
   ]
  },
  {
   "cell_type": "code",
   "execution_count": 9,
   "id": "d5649318",
   "metadata": {
    "tags": []
   },
   "outputs": [],
   "source": [
    "# 导入相关包\n",
    "import cv2\n",
    "import numpy as np\n",
    "import matplotlib.pyplot as plt\n",
    "%matplotlib inline"
   ]
  },
  {
   "cell_type": "markdown",
   "id": "cf73c467",
   "metadata": {},
   "source": [
    "## 读取图片"
   ]
  },
  {
   "cell_type": "code",
   "execution_count": 16,
   "id": "98177506",
   "metadata": {
    "tags": []
   },
   "outputs": [
    {
     "ename": "AttributeError",
     "evalue": "'NoneType' object has no attribute 'shape'",
     "output_type": "error",
     "traceback": [
      "\u001b[1;31m---------------------------------------------------------------------------\u001b[0m",
      "\u001b[1;31mAttributeError\u001b[0m                            Traceback (most recent call last)",
      "Cell \u001b[1;32mIn[16], line 3\u001b[0m\n\u001b[0;32m      1\u001b[0m \u001b[38;5;66;03m# 读取图片\u001b[39;00m\n\u001b[0;32m      2\u001b[0m img \u001b[38;5;241m=\u001b[39m cv2\u001b[38;5;241m.\u001b[39mimread(\u001b[38;5;124mr\u001b[39m\u001b[38;5;124m'\u001b[39m\u001b[38;5;124m.\u001b[39m\u001b[38;5;124m\\\u001b[39m\u001b[38;5;124mimages\u001b[39m\u001b[38;5;124m\\\u001b[39m\u001b[38;5;124mmask_cor\u001b[39m\u001b[38;5;124m\\\u001b[39m\u001b[38;5;124m00000_Mask.jpg\u001b[39m\u001b[38;5;124m'\u001b[39m)\n\u001b[1;32m----> 3\u001b[0m img\u001b[38;5;241m.\u001b[39mshape\n",
      "\u001b[1;31mAttributeError\u001b[0m: 'NoneType' object has no attribute 'shape'"
     ]
    }
   ],
   "source": [
    "# 读取图片\n",
    "img = cv2.imread(r'.\\images\\mask_cor\\00000_Mask.jpg')\n",
    "img.shape"
   ]
  },
  {
   "cell_type": "code",
   "execution_count": 7,
   "id": "e8d09ccd",
   "metadata": {
    "tags": []
   },
   "outputs": [
    {
     "ename": "error",
     "evalue": "OpenCV(4.8.1) D:\\a\\opencv-python\\opencv-python\\opencv\\modules\\imgproc\\src\\color.cpp:182: error: (-215:Assertion failed) !_src.empty() in function 'cv::cvtColor'\n",
     "output_type": "error",
     "traceback": [
      "\u001b[1;31m---------------------------------------------------------------------------\u001b[0m",
      "\u001b[1;31merror\u001b[0m                                     Traceback (most recent call last)",
      "Cell \u001b[1;32mIn[7], line 2\u001b[0m\n\u001b[0;32m      1\u001b[0m \u001b[38;5;66;03m# 显示图片\u001b[39;00m\n\u001b[1;32m----> 2\u001b[0m plt\u001b[38;5;241m.\u001b[39mimshow(cv2\u001b[38;5;241m.\u001b[39mcvtColor(img,cv2\u001b[38;5;241m.\u001b[39mCOLOR_BGR2RGB))\n",
      "\u001b[1;31merror\u001b[0m: OpenCV(4.8.1) D:\\a\\opencv-python\\opencv-python\\opencv\\modules\\imgproc\\src\\color.cpp:182: error: (-215:Assertion failed) !_src.empty() in function 'cv::cvtColor'\n"
     ]
    }
   ],
   "source": [
    "# 显示图片\n",
    "plt.imshow(cv2.cvtColor(img,cv2.COLOR_BGR2RGB))"
   ]
  },
  {
   "cell_type": "markdown",
   "id": "efa432db",
   "metadata": {},
   "source": [
    "## 裁剪人脸"
   ]
  },
  {
   "cell_type": "code",
   "execution_count": 2,
   "id": "c53dc3eb",
   "metadata": {},
   "outputs": [
    {
     "ename": "NameError",
     "evalue": "name 'cv2' is not defined",
     "output_type": "error",
     "traceback": [
      "\u001b[1;31m---------------------------------------------------------------------------\u001b[0m",
      "\u001b[1;31mNameError\u001b[0m                                 Traceback (most recent call last)",
      "Cell \u001b[1;32mIn[2], line 2\u001b[0m\n\u001b[0;32m      1\u001b[0m \u001b[38;5;66;03m#加载SSD模型\u001b[39;00m\n\u001b[1;32m----> 2\u001b[0m face_detector \u001b[38;5;241m=\u001b[39m cv2\u001b[38;5;241m.\u001b[39mdnn\u001b[38;5;241m.\u001b[39mreadNetFromCaffe(\u001b[38;5;124m'\u001b[39m\u001b[38;5;124m./weights/deploy.prototxt.txt\u001b[39m\u001b[38;5;124m'\u001b[39m,\u001b[38;5;124m'\u001b[39m\u001b[38;5;124mweights/res10_300x300_ssd_iter_140000.caffemodel\u001b[39m\u001b[38;5;124m'\u001b[39m)\n\u001b[0;32m      3\u001b[0m face_detector\n",
      "\u001b[1;31mNameError\u001b[0m: name 'cv2' is not defined"
     ]
    }
   ],
   "source": [
    "#加载SSD模型\n",
    "face_detector = cv2.dnn.readNetFromCaffe('./weights/deploy.prototxt.txt','weights/res10_300x300_ssd_iter_140000.caffemodel')\n",
    "face_detector"
   ]
  },
  {
   "cell_type": "code",
   "execution_count": 6,
   "id": "955313e9",
   "metadata": {},
   "outputs": [
    {
     "data": {
      "text/plain": [
       "(1, 3, 1024, 1024)"
      ]
     },
     "execution_count": 6,
     "metadata": {},
     "output_type": "execute_result"
    }
   ],
   "source": [
    "# 转为Blob\n",
    "# 对图像进行预处理，包括减均值，比例缩放，裁剪，交换通道等，返回一个4通道的blob\n",
    "img_blob = cv2.dnn.blobFromImage(img,1,(1024,1024),(104,177,123),swapRB=True)\n",
    "img_blob.shape"
   ]
  },
  {
   "cell_type": "code",
   "execution_count": 7,
   "id": "5893c03a",
   "metadata": {},
   "outputs": [],
   "source": [
    "# 输入\n",
    "face_detector.setInput(img_blob)"
   ]
  },
  {
   "cell_type": "code",
   "execution_count": 8,
   "id": "37e73643",
   "metadata": {},
   "outputs": [],
   "source": [
    "# 推理\n",
    "detections = face_detector.forward()"
   ]
  },
  {
   "cell_type": "code",
   "execution_count": 12,
   "id": "1a28cc61",
   "metadata": {},
   "outputs": [
    {
     "data": {
      "text/plain": [
       "(1, 1, 200, 7)"
      ]
     },
     "execution_count": 12,
     "metadata": {},
     "output_type": "execute_result"
    }
   ],
   "source": [
    "detections.shape"
   ]
  },
  {
   "cell_type": "code",
   "execution_count": 10,
   "id": "30327ee2",
   "metadata": {},
   "outputs": [],
   "source": [
    "# 人数\n",
    "person_count = detections.shape[2]"
   ]
  },
  {
   "cell_type": "code",
   "execution_count": 46,
   "id": "2d4a62ea",
   "metadata": {},
   "outputs": [
    {
     "data": {
      "text/plain": [
       "200"
      ]
     },
     "execution_count": 46,
     "metadata": {},
     "output_type": "execute_result"
    }
   ],
   "source": [
    "person_count"
   ]
  },
  {
   "cell_type": "code",
   "execution_count": 32,
   "id": "8f29ca7f",
   "metadata": {},
   "outputs": [],
   "source": [
    "# 人脸检测函数\n",
    "def face_detect(img):\n",
    "    #转为Blob\n",
    "    img_blob = cv2.dnn.blobFromImage(img,1,(300,300),(104,177,123),swapRB=True)\n",
    "    # 输入\n",
    "    face_detector.setInput(img_blob)\n",
    "    # 推理\n",
    "    detections = face_detector.forward()\n",
    "    # 获取原图尺寸\n",
    "    img_h,img_w = img.shape[:2]\n",
    "    \n",
    "    # 人脸数量\n",
    "    person_count = detections.shape[2]\n",
    "\n",
    "    for face_index in range(person_count):\n",
    "        # 置信度\n",
    "        confidence = detections[0,0,face_index,2]\n",
    "        if confidence > 0.5:\n",
    "            locations = detections[0,0,face_index,3:7] * np.array([img_w,img_h,img_w,img_h])\n",
    "            # 取证\n",
    "            l,t,r,b = locations.astype('int')\n",
    "            # cv2.rectangle(img,(l,t),(r,b),(0,255,0),5)\n",
    "            return img[t:b,l:r]\n",
    "    return None"
   ]
  },
  {
   "cell_type": "code",
   "execution_count": 33,
   "id": "c4b426a1",
   "metadata": {},
   "outputs": [],
   "source": [
    "# 测试图片\n",
    "img_new = cv2.imread(r'.\\images\\mask_cor\\00000_Mask.jpg')"
   ]
  },
  {
   "cell_type": "code",
   "execution_count": 34,
   "id": "17f819a0",
   "metadata": {},
   "outputs": [],
   "source": [
    "face_crop = face_detect(img_new)"
   ]
  },
  {
   "cell_type": "code",
   "execution_count": 16,
   "id": "efdbeaf3",
   "metadata": {},
   "outputs": [
    {
     "data": {
      "text/plain": [
       "(699, 635, 3)"
      ]
     },
     "execution_count": 16,
     "metadata": {},
     "output_type": "execute_result"
    }
   ],
   "source": [
    "face_crop.shape"
   ]
  },
  {
   "cell_type": "code",
   "execution_count": 57,
   "id": "38c964cb",
   "metadata": {},
   "outputs": [
    {
     "data": {
      "text/plain": [
       "<matplotlib.image.AxesImage at 0x1a54d14bc88>"
      ]
     },
     "execution_count": 57,
     "metadata": {},
     "output_type": "execute_result"
    },
    {
     "data": {
      "image/png": "[encoded data removed]",
      "text/plain": [
       "<Figure size 432x288 with 1 Axes>"
      ]
     },
     "metadata": {
      "needs_background": "light"
     },
     "output_type": "display_data"
    }
   ],
   "source": [
    "# 显示图片\n",
    "plt.imshow(cv2.cvtColor(face_crop,cv2.COLOR_BGR2RGB))"
   ]
  },
  {
   "cell_type": "markdown",
   "id": "65a0823d",
   "metadata": {},
   "source": [
    "## 3.转为Blob图像"
   ]
  },
  {
   "cell_type": "code",
   "execution_count": 35,
   "id": "4ff1b70e",
   "metadata": {},
   "outputs": [],
   "source": [
    "# 转为Blob的函数\n",
    "def imgBlob(img):\n",
    "    # 转为Blob\n",
    "    img_blob = cv2.dnn.blobFromImage(img,1,(100,100),(104,177,123),swapRB=True)\n",
    "    # 压缩维度\n",
    "    img_squeeze = np.squeeze(img_blob).T\n",
    "    # 旋转\n",
    "    img_rotate = cv2.rotate(img_squeeze,cv2.ROTATE_90_CLOCKWISE)\n",
    "    # 镜像\n",
    "    img_flip =  cv2.flip(img_rotate,1)\n",
    "    # 去除负数，并归一化\n",
    "    img_blob = np.maximum(img_flip,0) / img_flip.max()\n",
    "    return img_blob"
   ]
  },
  {
   "cell_type": "code",
   "execution_count": 38,
   "id": "882fcb39",
   "metadata": {
    "scrolled": true
   },
   "outputs": [
    {
     "name": "stderr",
     "output_type": "stream",
     "text": [
      "C:\\Users\\haitao\\Anaconda3\\lib\\site-packages\\skimage\\feature\\_hog.py:150: skimage_deprecation: Default value of `block_norm`==`L1` is deprecated and will be changed to `L2-Hys` in v0.15. To supress this message specify explicitly the normalization method.\n",
      "  skimage_deprecation)\n"
     ]
    },
    {
     "data": {
      "text/plain": [
       "(32768,)"
      ]
     },
     "execution_count": 38,
     "metadata": {},
     "output_type": "execute_result"
    }
   ],
   "source": [
    "from skimage.feature import hog\n",
    "img_test = cv2.imread(r'.\\images\\mask_cor\\00000_Mask.jpg')\n",
    "img_g = cv2.cvtColor(img_test,cv2.COLOR_BGR2GRAY)\n",
    "img_g.shape\n",
    "fd = hog(img_g, orientations=8, pixels_per_cell=(16, 16),\n",
    "                    cells_per_block=(1, 1))\n",
    "fd.shape\n"
   ]
  },
  {
   "cell_type": "markdown",
   "id": "094d45f4",
   "metadata": {},
   "source": [
    "## 处理所有图片"
   ]
  },
  {
   "cell_type": "code",
   "execution_count": 23,
   "id": "7d414ae5",
   "metadata": {},
   "outputs": [],
   "source": [
    "# 获取图片类别 labels"
   ]
  },
  {
   "cell_type": "code",
   "execution_count": 36,
   "id": "8a0728db",
   "metadata": {},
   "outputs": [],
   "source": [
    "import os,glob\n",
    "import tqdm"
   ]
  },
  {
   "cell_type": "code",
   "execution_count": 37,
   "id": "53c24253",
   "metadata": {},
   "outputs": [
    {
     "data": {
      "text/plain": [
       "['mask_cor', 'mask_uncor', 'no_mask']"
      ]
     },
     "execution_count": 37,
     "metadata": {},
     "output_type": "execute_result"
    }
   ],
   "source": [
    "labels = os.listdir('images/')\n",
    "labels"
   ]
  },
  {
   "cell_type": "code",
   "execution_count": 26,
   "id": "d28a9955",
   "metadata": {},
   "outputs": [
    {
     "name": "stderr",
     "output_type": "stream",
     "text": [
      "处理 mask_cor : 100%|██████████████████████████████████████████████████████████████████| 950/950 [00:46<00:00, 20.39it/s]\n",
      "处理 mask_uncor : 100%|████████████████████████████████████████████████████████████████| 928/928 [00:47<00:00, 19.40it/s]\n",
      "处理 no_mask : 100%|█████████████████████████████████████████████████████████████████| 1000/1000 [00:50<00:00, 19.93it/s]\n"
     ]
    }
   ],
   "source": [
    "# 遍历所有类别\n",
    "\n",
    "# 两个列表保存结果\n",
    "img_list1 = []\n",
    "label_list1 = []\n",
    "for label in labels:\n",
    "    # 获取每类文件列表\n",
    "    file_list =glob.glob('images/%s/*.jpg' % (label))\n",
    "    \n",
    "    for img_file in tqdm.tqdm( file_list ,desc = \"处理 %s \"  % (label)):\n",
    "        # 读取文件\n",
    "        img = cv2.imread(img_file)\n",
    "        # 裁剪人脸\n",
    "        img_crop = face_detect(img)\n",
    "        # 判断空的情况\n",
    "        if img_crop is not None:\n",
    "            # 转为Blob\n",
    "            img_blob = imgBlob(img_crop)\n",
    "            img_blobg = cv2.cvtColor(img_blob,cv2.COLOR_BGR2GRAY)\n",
    "            fd = hog(img_blobg, orientations=8, pixels_per_cell=(8, 8),\n",
    "                    cells_per_block=(1, 1))\n",
    "            img_list1.append(fd)\n",
    "            label_list1.append(label)\n",
    "    "
   ]
  },
  {
   "cell_type": "markdown",
   "id": "3acd870e",
   "metadata": {},
   "source": [
    "## 5.保存为numpy文件"
   ]
  },
  {
   "cell_type": "code",
   "execution_count": 27,
   "id": "a3e470fd",
   "metadata": {},
   "outputs": [],
   "source": [
    "# 转为numpy数据\n",
    "X_g = np.asarray(img_list1)\n",
    "Y_g = np.asarray(label_list1)"
   ]
  },
  {
   "cell_type": "code",
   "execution_count": 39,
   "id": "2795ad05",
   "metadata": {},
   "outputs": [
    {
     "data": {
      "text/plain": [
       "((2861, 1152), (2861,))"
      ]
     },
     "execution_count": 39,
     "metadata": {},
     "output_type": "execute_result"
    }
   ],
   "source": [
    "X_g.shape,Y_g.shape"
   ]
  },
  {
   "cell_type": "code",
   "execution_count": 146,
   "id": "51eeaa79",
   "metadata": {},
   "outputs": [],
   "source": [
    "# 存储为numpy文件\n",
    "np.savez('./data/imageData_g.npz',X_g,Y_g)"
   ]
  },
  {
   "cell_type": "code",
   "execution_count": 40,
   "id": "71ad2d17",
   "metadata": {},
   "outputs": [
    {
     "name": "stdout",
     "output_type": "stream",
     "text": [
      "svm acc:0.9413407821229051\n",
      "svm 1 acc:0.9287709497206704\n",
      "svm  2 acc:0.9567039106145251\n"
     ]
    }
   ],
   "source": [
    "from sklearn.model_selection import train_test_split\n",
    "from sklearn import svm\n",
    "from sklearn.metrics import accuracy_score\n",
    "from sklearn.metrics import confusion_matrix\n",
    "\n",
    "x_train,x_test,y_train,y_test  = train_test_split(X_g,Y_g,\n",
    "                                                  test_size=0.25,random_state=42)\n",
    "\n",
    "cls = svm.SVC(kernel='rbf')\n",
    "cls.fit(x_train,y_train)\n",
    "predictLabels = cls.predict(x_test)\n",
    "\n",
    "print ( \"svm acc:%s\" % accuracy_score(y_test,predictLabels))\n",
    "\n",
    "cls1 = svm.SVC(kernel='linear')\n",
    "cls1.fit(x_train,y_train)\n",
    "predictLabels = cls1.predict(x_test)\n",
    "\n",
    "print ( \"svm 1 acc:%s\" % accuracy_score(y_test,predictLabels))\n",
    "\n",
    "\n",
    "cls2 = svm.SVC(kernel='poly')\n",
    "cls2.fit(x_train,y_train)\n",
    "predictLabels = cls2.predict(x_test)\n",
    "\n",
    "print ( \"svm  2 acc:%s\" % accuracy_score(y_test,predictLabels))"
   ]
  },
  {
   "cell_type": "code",
   "execution_count": 145,
   "id": "13bdac86",
   "metadata": {},
   "outputs": [
    {
     "data": {
      "text/plain": [
       "['./models/svc.joblib']"
      ]
     },
     "execution_count": 145,
     "metadata": {},
     "output_type": "execute_result"
    }
   ],
   "source": [
    "from joblib import dump, load\n",
    "dump(cls, './models/svc.joblib') "
   ]
  },
  {
   "cell_type": "code",
   "execution_count": 134,
   "id": "3a71e7c9",
   "metadata": {},
   "outputs": [
    {
     "name": "stdout",
     "output_type": "stream",
     "text": [
      "svm acc:0.9427374301675978\n"
     ]
    }
   ],
   "source": [
    "# 调用模型\n",
    "cls = load('./models/svc.joblib') \n",
    "predictLabels = cls.predict(x_test)\n",
    "\n",
    "print ( \"svm acc:%s\" % accuracy_score(y_test,predictLabels))"
   ]
  },
  {
   "cell_type": "code",
   "execution_count": 31,
   "id": "ecb32354",
   "metadata": {},
   "outputs": [
    {
     "data": {
      "text/plain": [
       "'mask_uncor'"
      ]
     },
     "execution_count": 31,
     "metadata": {},
     "output_type": "execute_result"
    }
   ],
   "source": [
    "predictLabels[0]"
   ]
  }
 ],
 "metadata": {
  "kernelspec": {
   "display_name": "Python 3 (ipykernel)",
   "language": "python",
   "name": "python3"
  },
  "language_info": {
   "codemirror_mode": {
    "name": "ipython",
    "version": 3
   },
   "file_extension": ".py",
   "mimetype": "text/x-python",
   "name": "python",
   "nbconvert_exporter": "python",
   "pygments_lexer": "ipython3",
   "version": "3.11.3"
  },
  "toc": {
   "base_numbering": 1,
   "nav_menu": {},
   "number_sections": true,
   "sideBar": true,
   "skip_h1_title": false,
   "title_cell": "Table of Contents",
   "title_sidebar": "Contents",
   "toc_cell": false,
   "toc_position": {},
   "toc_section_display": true,
   "toc_window_display": false
  }
 },
 "nbformat": 4,
 "nbformat_minor": 5
}
